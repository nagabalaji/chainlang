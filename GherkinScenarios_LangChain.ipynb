{
 "cells": [
  {
   "cell_type": "code",
   "execution_count": 9,
   "id": "3c444682",
   "metadata": {},
   "outputs": [],
   "source": [
    "from secret_key import openapi_key\n",
    "import os\n",
    "os.environ['OPENAI_API_KEY']=openapi_key"
   ]
  },
  {
   "cell_type": "code",
   "execution_count": 10,
   "id": "bdddf1e7",
   "metadata": {
    "scrolled": true
   },
   "outputs": [
    {
     "name": "stdout",
     "output_type": "stream",
     "text": [
      "\n",
      "\n",
      "Positive Scenario:\n",
      "Given I am on the website homepage\n",
      "When I enter a valid username and password\n",
      "Then I should be able to login to the website\n",
      "\n",
      "Negative Scenario:\n",
      "Given I am on the website homepage\n",
      "When I enter an invalid username and password\n",
      "Then I should not be able to login to the website\n"
     ]
    }
   ],
   "source": [
    "from langchain.llms import OpenAI\n",
    "\n",
    "llm = OpenAI(temperature=0.6)\n",
    "name = llm('Write positive and negative Gherkin scenarios for JIRA User story acceptance criteria, I should be able to login website with user name and password')\n",
    "print(name)"
   ]
  },
  {
   "cell_type": "code",
   "execution_count": 11,
   "id": "383f86d2",
   "metadata": {},
   "outputs": [
    {
     "data": {
      "text/plain": [
       "'Write positive and negative Gherkin scenarios for JIRA User story, and acceptance criteria,As a Banking User, I should be able to login website with user name and password and the acceptance criteria is, user is only allowed to login when valid credentials are entered.'"
      ]
     },
     "execution_count": 11,
     "metadata": {},
     "output_type": "execute_result"
    }
   ],
   "source": [
    "from langchain.prompts import PromptTemplate\n",
    "\n",
    "prompt_template_name = PromptTemplate(\n",
    "    input_variables = ['usac'],\n",
    "    template = \"Write positive and negative Gherkin scenarios for JIRA User story, and acceptance criteria,{usac}\"\n",
    ")\n",
    "\n",
    "prompt_template_name.format(usac=\"As a Banking User, I should be able to login website with user name and password and the acceptance criteria is, user is only allowed to login when valid credentials are entered.\")"
   ]
  },
  {
   "cell_type": "code",
   "execution_count": 12,
   "id": "b3152598",
   "metadata": {
    "scrolled": true
   },
   "outputs": [
    {
     "data": {
      "text/plain": [
       "'\\n\\nPositive Gherkin Scenario:\\nGiven a banking user is on the login page\\nWhen the user enters their username and password\\nAnd clicks the \"Ok\" button\\nThen the user should be logged in successfully\\n\\nNegative Gherkin Scenario:\\nGiven a banking user is on the login page\\nWhen the user enters an incorrect username and password\\nAnd clicks the \"Ok\" button\\nThen the user should receive an error message'"
      ]
     },
     "execution_count": 12,
     "metadata": {},
     "output_type": "execute_result"
    }
   ],
   "source": [
    "from langchain.chains import LLMChain\n",
    "\n",
    "chain = LLMChain(llm=llm, prompt=prompt_template_name)\n",
    "chain.run('As a Banking user I should be able to enter user name and password and click OK button')"
   ]
  }
 ],
 "metadata": {
  "kernelspec": {
   "display_name": "Python 3 (ipykernel)",
   "language": "python",
   "name": "python3"
  },
  "language_info": {
   "codemirror_mode": {
    "name": "ipython",
    "version": 3
   },
   "file_extension": ".py",
   "mimetype": "text/x-python",
   "name": "python",
   "nbconvert_exporter": "python",
   "pygments_lexer": "ipython3",
   "version": "3.11.4"
  }
 },
 "nbformat": 4,
 "nbformat_minor": 5
}
